{
 "cells": [
  {
   "cell_type": "code",
   "execution_count": 1,
   "metadata": {},
   "outputs": [],
   "source": [
    "import pandas as pd;\n",
    "import numpy.random as np;\n",
    "import matplotlib.pyplot as plt;\n",
    "import math\n",
    "\n",
    "x=[2,2,5,6,5,2.5,2.1,2.2,2.3,2.7,2.9,2.75,2.8,2.76]\n",
    "y=[4,3,2,2,2.5,3.5,3.4,3.7,3.6,3.9,3.8,3.9,3.65,3.84]\n",
    "dataset=list(zip(x,y))\n",
    "df=pd.DataFrame(data=dataset,columns=['x','y'])\n",
    "#df.plot.scatter(x='x',y='y')\n",
    "#let k=2;\n",
    "cluster1=[]\n",
    "cluster2=[]\n",
    "cluster1.append([2,4])\n",
    "cluster2.append([5,2])\n",
    "\n",
    "avg=0\n",
    "avg1=0\n",
    "avg2=0\n",
    "avg3=0\n",
    "\n",
    "\n",
    "for i in range(14):\n",
    "    t1=math.sqrt((math.pow((cluster1[0][0]-x[i]),2))+(math.pow((cluster1[0][1]-y[i]),2)))\n",
    "    t2= math.sqrt((math.pow((cluster2[0][0]-x[i]),2))+(math.pow((cluster2[0][1]-y[i]),2)))\n",
    "    if t1<t2:\n",
    "        cluster1.append([x[i],y[i]])\n",
    "        \n",
    "        for i in range(len(cluster1)):\n",
    "            avg=avg+cluster1[i][0]\n",
    "            avg1=avg1+cluster1[i][1]\n",
    "         \n",
    "        cluster1[0][0]=avg/len(cluster1)\n",
    "        cluster1[0][1]=avg1/len(cluster1)\n",
    "        avg=0\n",
    "        avg1=0\n",
    "        \n",
    "    else:\n",
    "        cluster2.append([x[i],y[i]])\n",
    "        for i in range(len(cluster2)):\n",
    "            avg2=avg2+cluster2[i][0]\n",
    "            avg3=avg3+cluster2[i][1]\n",
    "            \n",
    "        cluster2[0][0]=avg2/len(cluster2)\n",
    "        cluster2[0][1]=avg3/len(cluster2)\n",
    "        avg2=0\n",
    "        avg3=0\n",
    "        \n",
    "      \n",
    "      \n",
    "        \n",
    "\n",
    "\n"
   ]
  },
  {
   "cell_type": "code",
   "execution_count": 2,
   "metadata": {},
   "outputs": [
    {
     "data": {
      "text/plain": [
       "[[2.4525587083633957, 3.6612187570980965],\n",
       " [2, 4],\n",
       " [2, 3],\n",
       " [2.5, 3.5],\n",
       " [2.1, 3.4],\n",
       " [2.2, 3.7],\n",
       " [2.3, 3.6],\n",
       " [2.7, 3.9],\n",
       " [2.9, 3.8],\n",
       " [2.75, 3.9],\n",
       " [2.8, 3.65],\n",
       " [2.76, 3.84]]"
      ]
     },
     "execution_count": 2,
     "metadata": {},
     "output_type": "execute_result"
    }
   ],
   "source": [
    "cluster1"
   ]
  },
  {
   "cell_type": "code",
   "execution_count": 3,
   "metadata": {},
   "outputs": [
    {
     "data": {
      "text/plain": [
       "[[5.333333333333333, 2.125], [5, 2], [6, 2], [5, 2.5]]"
      ]
     },
     "execution_count": 3,
     "metadata": {},
     "output_type": "execute_result"
    }
   ],
   "source": [
    "cluster2"
   ]
  },
  {
   "cell_type": "code",
   "execution_count": 4,
   "metadata": {},
   "outputs": [
    {
     "data": {
      "text/plain": [
       "<matplotlib.axes._subplots.AxesSubplot at 0x15e2d06dcc8>"
      ]
     },
     "execution_count": 4,
     "metadata": {},
     "output_type": "execute_result"
    },
    {
     "data": {
      "image/png": "[encoded data removed]",
      "text/plain": [
       "<Figure size 432x288 with 1 Axes>"
      ]
     },
     "metadata": {
      "needs_background": "light"
     },
     "output_type": "display_data"
    }
   ],
   "source": [
    "df.plot.scatter(x='x',y='y')\n"
   ]
  },
  {
   "cell_type": "code",
   "execution_count": 5,
   "metadata": {},
   "outputs": [],
   "source": [
    "cluster3=cluster1+cluster2"
   ]
  },
  {
   "cell_type": "code",
   "execution_count": 6,
   "metadata": {},
   "outputs": [
    {
     "data": {
      "text/plain": [
       "[[2.4525587083633957, 3.6612187570980965],\n",
       " [2, 4],\n",
       " [2, 3],\n",
       " [2.5, 3.5],\n",
       " [2.1, 3.4],\n",
       " [2.2, 3.7],\n",
       " [2.3, 3.6],\n",
       " [2.7, 3.9],\n",
       " [2.9, 3.8],\n",
       " [2.75, 3.9],\n",
       " [2.8, 3.65],\n",
       " [2.76, 3.84],\n",
       " [5.333333333333333, 2.125],\n",
       " [5, 2],\n",
       " [6, 2],\n",
       " [5, 2.5]]"
      ]
     },
     "execution_count": 6,
     "metadata": {},
     "output_type": "execute_result"
    }
   ],
   "source": [
    "cluster3"
   ]
  },
  {
   "cell_type": "code",
   "execution_count": 7,
   "metadata": {},
   "outputs": [
    {
     "data": {
      "text/html": [
       "<div>\n",
       "<style scoped>\n",
       "    .dataframe tbody tr th:only-of-type {\n",
       "        vertical-align: middle;\n",
       "    }\n",
       "\n",
       "    .dataframe tbody tr th {\n",
       "        vertical-align: top;\n",
       "    }\n",
       "\n",
       "    .dataframe thead th {\n",
       "        text-align: right;\n",
       "    }\n",
       "</style>\n",
       "<table border=\"1\" class=\"dataframe\">\n",
       "  <thead>\n",
       "    <tr style=\"text-align: right;\">\n",
       "      <th></th>\n",
       "      <th>x</th>\n",
       "      <th>y</th>\n",
       "    </tr>\n",
       "  </thead>\n",
       "  <tbody>\n",
       "    <tr>\n",
       "      <th>0</th>\n",
       "      <td>2.452559</td>\n",
       "      <td>3.661219</td>\n",
       "    </tr>\n",
       "    <tr>\n",
       "      <th>1</th>\n",
       "      <td>2.000000</td>\n",
       "      <td>4.000000</td>\n",
       "    </tr>\n",
       "    <tr>\n",
       "      <th>2</th>\n",
       "      <td>2.000000</td>\n",
       "      <td>3.000000</td>\n",
       "    </tr>\n",
       "    <tr>\n",
       "      <th>3</th>\n",
       "      <td>2.500000</td>\n",
       "      <td>3.500000</td>\n",
       "    </tr>\n",
       "    <tr>\n",
       "      <th>4</th>\n",
       "      <td>2.100000</td>\n",
       "      <td>3.400000</td>\n",
       "    </tr>\n",
       "    <tr>\n",
       "      <th>5</th>\n",
       "      <td>2.200000</td>\n",
       "      <td>3.700000</td>\n",
       "    </tr>\n",
       "    <tr>\n",
       "      <th>6</th>\n",
       "      <td>2.300000</td>\n",
       "      <td>3.600000</td>\n",
       "    </tr>\n",
       "    <tr>\n",
       "      <th>7</th>\n",
       "      <td>2.700000</td>\n",
       "      <td>3.900000</td>\n",
       "    </tr>\n",
       "    <tr>\n",
       "      <th>8</th>\n",
       "      <td>2.900000</td>\n",
       "      <td>3.800000</td>\n",
       "    </tr>\n",
       "    <tr>\n",
       "      <th>9</th>\n",
       "      <td>2.750000</td>\n",
       "      <td>3.900000</td>\n",
       "    </tr>\n",
       "    <tr>\n",
       "      <th>10</th>\n",
       "      <td>2.800000</td>\n",
       "      <td>3.650000</td>\n",
       "    </tr>\n",
       "    <tr>\n",
       "      <th>11</th>\n",
       "      <td>2.760000</td>\n",
       "      <td>3.840000</td>\n",
       "    </tr>\n",
       "    <tr>\n",
       "      <th>12</th>\n",
       "      <td>5.333333</td>\n",
       "      <td>2.125000</td>\n",
       "    </tr>\n",
       "    <tr>\n",
       "      <th>13</th>\n",
       "      <td>5.000000</td>\n",
       "      <td>2.000000</td>\n",
       "    </tr>\n",
       "    <tr>\n",
       "      <th>14</th>\n",
       "      <td>6.000000</td>\n",
       "      <td>2.000000</td>\n",
       "    </tr>\n",
       "    <tr>\n",
       "      <th>15</th>\n",
       "      <td>5.000000</td>\n",
       "      <td>2.500000</td>\n",
       "    </tr>\n",
       "  </tbody>\n",
       "</table>\n",
       "</div>"
      ],
      "text/plain": [
       "           x         y\n",
       "0   2.452559  3.661219\n",
       "1   2.000000  4.000000\n",
       "2   2.000000  3.000000\n",
       "3   2.500000  3.500000\n",
       "4   2.100000  3.400000\n",
       "5   2.200000  3.700000\n",
       "6   2.300000  3.600000\n",
       "7   2.700000  3.900000\n",
       "8   2.900000  3.800000\n",
       "9   2.750000  3.900000\n",
       "10  2.800000  3.650000\n",
       "11  2.760000  3.840000\n",
       "12  5.333333  2.125000\n",
       "13  5.000000  2.000000\n",
       "14  6.000000  2.000000\n",
       "15  5.000000  2.500000"
      ]
     },
     "execution_count": 7,
     "metadata": {},
     "output_type": "execute_result"
    }
   ],
   "source": [
    "df2=pd.DataFrame(data=cluster3,columns=['x','y'])\n",
    "df2"
   ]
  },
  {
   "cell_type": "code",
   "execution_count": 8,
   "metadata": {},
   "outputs": [
    {
     "data": {
      "text/plain": [
       "<matplotlib.axes._subplots.AxesSubplot at 0x24e7591d940>"
      ]
     },
     "execution_count": 8,
     "metadata": {},
     "output_type": "execute_result"
    },
    {
     "data": {
      "image/png": "[encoded data removed]",
      "text/plain": [
       "<Figure size 432x288 with 1 Axes>"
      ]
     },
     "metadata": {
      "needs_background": "light"
     },
     "output_type": "display_data"
    }
   ],
   "source": [
    "df2.plot.scatter(x='x',y='y',color='red')"
   ]
  },
  {
   "cell_type": "code",
   "execution_count": null,
   "metadata": {},
   "outputs": [],
   "source": []
  }
 ],
 "metadata": {
  "kernelspec": {
   "display_name": "Python 3",
   "language": "python",
   "name": "python3"
  },
  "language_info": {
   "codemirror_mode": {
    "name": "ipython",
    "version": 3
   },
   "file_extension": ".py",
   "mimetype": "text/x-python",
   "name": "python",
   "nbconvert_exporter": "python",
   "pygments_lexer": "ipython3",
   "version": "3.7.4"
  }
 },
 "nbformat": 4,
 "nbformat_minor": 2
}
